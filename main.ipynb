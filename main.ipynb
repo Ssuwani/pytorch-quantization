{
 "cells": [
  {
   "cell_type": "code",
   "execution_count": 1,
   "metadata": {},
   "outputs": [
    {
     "name": "stdout",
     "output_type": "stream",
     "text": [
      "Files already downloaded and verified\n",
      "Files already downloaded and verified\n"
     ]
    }
   ],
   "source": [
    "import torch.nn as nn\n",
    "import torch.optim as optim\n",
    "import torchvision\n",
    "import torchvision.transforms as transforms\n",
    "from torch.utils.data import DataLoader\n",
    "\n",
    "# CIFAR-10 데이터셋 로드 및 전처리\n",
    "transform = transforms.Compose(\n",
    "    [transforms.ToTensor(), transforms.Normalize((0.5, 0.5, 0.5), (0.5, 0.5, 0.5))]\n",
    ")\n",
    "trainset = torchvision.datasets.CIFAR10(\n",
    "    root=\"./data\", train=True, download=True, transform=transform\n",
    ")\n",
    "testset = torchvision.datasets.CIFAR10(\n",
    "    root=\"./data\", train=False, download=True, transform=transform\n",
    ")\n",
    "\n",
    "trainloader = DataLoader(trainset, batch_size=128, shuffle=True)\n",
    "testloader = DataLoader(testset, batch_size=100, shuffle=False)\n"
   ]
  },
  {
   "cell_type": "code",
   "execution_count": 16,
   "metadata": {},
   "outputs": [],
   "source": [
    "# 모델 정의\n",
    "import torch\n",
    "import torch.nn.functional as F\n",
    "\n",
    "\n",
    "class CIFAR10Classifier(nn.Module):\n",
    "    def __init__(self):\n",
    "        super(CIFAR10Classifier, self).__init__()\n",
    "\n",
    "        # 양자화 스텁 추가\n",
    "        self.quant = torch.quantization.QuantStub()  # 입력을 양자화\n",
    "        self.dequant = torch.quantization.DeQuantStub()  # 출력을 역양자화\n",
    "\n",
    "        # Convolutional Layers\n",
    "        self.conv1 = nn.Conv2d(3, 32, kernel_size=3, padding=1)\n",
    "        self.conv2 = nn.Conv2d(32, 64, kernel_size=3, padding=1)\n",
    "        self.conv3 = nn.Conv2d(64, 128, kernel_size=3, padding=1)\n",
    "\n",
    "        # Fully Connected Layers\n",
    "        self.fc1 = nn.Linear(128 * 4 * 4, 256)\n",
    "        self.fc2 = nn.Linear(256, 128)\n",
    "        self.fc3 = nn.Linear(128, 10)\n",
    "\n",
    "        # Pooling and Dropout\n",
    "        self.pool = nn.MaxPool2d(2, 2)\n",
    "        self.dropout = nn.Dropout(0.5)\n",
    "\n",
    "    def forward(self, x):\n",
    "        x = self.quant(x)\n",
    "        x = self.pool(F.relu(self.conv1(x)))\n",
    "        x = self.pool(F.relu(self.conv2(x)))\n",
    "        x = self.pool(F.relu(self.conv3(x)))\n",
    "\n",
    "        x = x.contiguous().view(-1, 128 * 4 * 4)\n",
    "\n",
    "        x = F.relu(self.fc1(x))\n",
    "        x = self.dropout(x)\n",
    "        x = F.relu(self.fc2(x))\n",
    "        x = self.dropout(x)\n",
    "        x = self.fc3(x)\n",
    "\n",
    "        x = self.dequant(x)\n",
    "        return x"
   ]
  },
  {
   "cell_type": "code",
   "execution_count": 17,
   "metadata": {},
   "outputs": [],
   "source": [
    "# 모델 학습 함수 정의\n",
    "def train_model(model, trainloader, epochs=5):\n",
    "    optimizer = optim.SGD(model.parameters(), lr=0.01, momentum=0.9)\n",
    "    criterion = nn.CrossEntropyLoss()\n",
    "\n",
    "    model.train()\n",
    "\n",
    "    for epoch in range(epochs):\n",
    "        running_loss = 0.0\n",
    "        for inputs, labels in trainloader:\n",
    "            optimizer.zero_grad()\n",
    "            outputs = model(inputs)\n",
    "            loss = criterion(outputs, labels)\n",
    "            loss.backward()\n",
    "            optimizer.step()\n",
    "            running_loss += loss.item()\n",
    "        print(f\"Epoch [{epoch+1}/{epochs}], Loss: {running_loss/len(trainloader):.4f}\")\n",
    "    return model"
   ]
  },
  {
   "cell_type": "code",
   "execution_count": 18,
   "metadata": {},
   "outputs": [
    {
     "name": "stdout",
     "output_type": "stream",
     "text": [
      "Epoch [1/5], Loss: 2.1800\n",
      "Epoch [2/5], Loss: 1.7158\n",
      "Epoch [3/5], Loss: 1.4862\n",
      "Epoch [4/5], Loss: 1.3241\n",
      "Epoch [5/5], Loss: 1.1814\n"
     ]
    }
   ],
   "source": [
    "# 모델 학습\n",
    "model = CIFAR10Classifier()\n",
    "model = train_model(model, trainloader, epochs=5)\n"
   ]
  },
  {
   "cell_type": "code",
   "execution_count": 19,
   "metadata": {},
   "outputs": [],
   "source": [
    "# 모델 평가 함수 정의\n",
    "def evaluate_model(model, testloader):\n",
    "    model.eval()\n",
    "    correct = 0\n",
    "    total = 0\n",
    "    with torch.no_grad():\n",
    "        for data in testloader:\n",
    "            images, labels = data\n",
    "            outputs = model(images)\n",
    "            _, predicted = torch.max(outputs, 1)\n",
    "            total += labels.size(0)\n",
    "            correct += (predicted == labels).sum().item()\n",
    "    accuracy = 100 * correct / total\n",
    "    print(f\"Accuracy: {accuracy:.2f}%\")\n",
    "    return accuracy"
   ]
  },
  {
   "cell_type": "code",
   "execution_count": 20,
   "metadata": {},
   "outputs": [
    {
     "name": "stdout",
     "output_type": "stream",
     "text": [
      "Accuracy: 61.95%\n"
     ]
    }
   ],
   "source": [
    "# 모델 평가\n",
    "accuracy = evaluate_model(model, testloader)"
   ]
  },
  {
   "cell_type": "code",
   "execution_count": 34,
   "metadata": {},
   "outputs": [],
   "source": [
    "# Dynamic Quantization 적용\n",
    "torch.backends.quantized.engine = \"qnnpack\"\n",
    "dynamic_quantized_model = torch.quantization.quantize_dynamic(model, dtype=torch.qint8)"
   ]
  },
  {
   "cell_type": "code",
   "execution_count": 35,
   "metadata": {},
   "outputs": [
    {
     "name": "stdout",
     "output_type": "stream",
     "text": [
      "Accuracy: 61.91%\n"
     ]
    }
   ],
   "source": [
    "# 평가\n",
    "accuracy = evaluate_model(dynamic_quantized_model, testloader)\n"
   ]
  },
  {
   "cell_type": "code",
   "execution_count": 25,
   "metadata": {},
   "outputs": [],
   "source": [
    "# Static Quantization 적용\n",
    "model.qconfig = torch.quantization.get_default_qconfig(\"qnnpack\")\n",
    "model_static_quantized = torch.quantization.prepare(model, inplace=False)\n",
    "\n",
    "# Calibration 수행 (첫 번째 배치로 모델에 입력 전달)\n",
    "for images, _ in trainloader:\n",
    "    model_static_quantized(images)\n",
    "    break  # Calibration은 한 번만 수행\n",
    "\n",
    "model_static_quantized = torch.quantization.convert(\n",
    "    model_static_quantized, inplace=False\n",
    ")"
   ]
  },
  {
   "cell_type": "code",
   "execution_count": 26,
   "metadata": {},
   "outputs": [
    {
     "name": "stdout",
     "output_type": "stream",
     "text": [
      "Accuracy: 61.87%\n"
     ]
    }
   ],
   "source": [
    "accuracy = evaluate_model(model_static_quantized, testloader)"
   ]
  },
  {
   "cell_type": "code",
   "execution_count": 27,
   "metadata": {},
   "outputs": [
    {
     "name": "stdout",
     "output_type": "stream",
     "text": [
      "Epoch [1/5], Loss: 2.2017\n",
      "Epoch [2/5], Loss: 1.7616\n",
      "Epoch [3/5], Loss: 1.5237\n",
      "Epoch [4/5], Loss: 1.3624\n",
      "Epoch [5/5], Loss: 1.2082\n"
     ]
    },
    {
     "data": {
      "text/plain": [
       "CIFAR10Classifier(\n",
       "  (quant): Quantize(scale=tensor([0.0078]), zero_point=tensor([127]), dtype=torch.quint8)\n",
       "  (dequant): DeQuantize()\n",
       "  (conv1): QuantizedConv2d(3, 32, kernel_size=(3, 3), stride=(1, 1), scale=0.0338754840195179, zero_point=126, padding=(1, 1))\n",
       "  (conv2): QuantizedConv2d(32, 64, kernel_size=(3, 3), stride=(1, 1), scale=0.03431626781821251, zero_point=116, padding=(1, 1))\n",
       "  (conv3): QuantizedConv2d(64, 128, kernel_size=(3, 3), stride=(1, 1), scale=0.03748861327767372, zero_point=148, padding=(1, 1))\n",
       "  (fc1): QuantizedLinear(in_features=2048, out_features=256, scale=0.023754138499498367, zero_point=141, qscheme=torch.per_tensor_affine)\n",
       "  (fc2): QuantizedLinear(in_features=256, out_features=128, scale=0.023721380159258842, zero_point=108, qscheme=torch.per_tensor_affine)\n",
       "  (fc3): QuantizedLinear(in_features=128, out_features=10, scale=0.08717452734708786, zero_point=115, qscheme=torch.per_tensor_affine)\n",
       "  (pool): MaxPool2d(kernel_size=2, stride=2, padding=0, dilation=1, ceil_mode=False)\n",
       "  (dropout): QuantizedDropout(p=0.5, inplace=False)\n",
       ")"
      ]
     },
     "execution_count": 27,
     "metadata": {},
     "output_type": "execute_result"
    }
   ],
   "source": [
    "# QAT 모델 정의\n",
    "qat_model = CIFAR10Classifier()\n",
    "qat_model.qconfig = torch.quantization.get_default_qat_qconfig(\"qnnpack\")\n",
    "torch.quantization.prepare_qat(qat_model, inplace=True)\n",
    "\n",
    "# QAT 훈련\n",
    "qat_model = train_model(qat_model, trainloader, epochs=5)\n",
    "torch.quantization.convert(qat_model, inplace=True)\n"
   ]
  },
  {
   "cell_type": "code",
   "execution_count": 28,
   "metadata": {},
   "outputs": [
    {
     "name": "stdout",
     "output_type": "stream",
     "text": [
      "Accuracy: 60.95%\n"
     ]
    }
   ],
   "source": [
    "# 평가\n",
    "accuracy = evaluate_model(qat_model, testloader)\n"
   ]
  },
  {
   "cell_type": "code",
   "execution_count": 36,
   "metadata": {},
   "outputs": [
    {
     "name": "stdout",
     "output_type": "stream",
     "text": [
      "Model size: 2.611474 MB\n",
      "Model size: 0.938292 MB\n",
      "Model size: 0.661388 MB\n",
      "Model size: 0.661388 MB\n"
     ]
    }
   ],
   "source": [
    "def print_model_size(model):\n",
    "    import os\n",
    "\n",
    "    torch.save(model.state_dict(), \"/tmp/model.pth\")\n",
    "    print(f\"Model size: {os.path.getsize('/tmp/model.pth') / 1e6} MB\")\n",
    "\n",
    "\n",
    "print_model_size(model)\n",
    "print_model_size(dynamic_quantized_model)\n",
    "print_model_size(model_static_quantized)\n",
    "print_model_size(qat_model)\n"
   ]
  },
  {
   "cell_type": "code",
   "execution_count": null,
   "metadata": {},
   "outputs": [],
   "source": []
  }
 ],
 "metadata": {
  "kernelspec": {
   "display_name": ".venv",
   "language": "python",
   "name": "python3"
  },
  "language_info": {
   "codemirror_mode": {
    "name": "ipython",
    "version": 3
   },
   "file_extension": ".py",
   "mimetype": "text/x-python",
   "name": "python",
   "nbconvert_exporter": "python",
   "pygments_lexer": "ipython3",
   "version": "3.11.9"
  }
 },
 "nbformat": 4,
 "nbformat_minor": 2
}
